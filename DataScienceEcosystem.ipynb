{
 "cells": [
  {
   "cell_type": "markdown",
   "id": "4c4f6ba7",
   "metadata": {},
   "source": [
    "# Data Science Tools and Ecosystem"
   ]
  },
  {
   "cell_type": "markdown",
   "id": "5fbe0315",
   "metadata": {},
   "source": [
    "In this notebook, Data Science Tools and Ecosystem are summarized."
   ]
  },
  {
   "cell_type": "markdown",
   "id": "59790ded",
   "metadata": {},
   "source": [
    "**Objectives:**\n",
    "* Introduction to Github\n",
    "* Introduction to RStudio\n",
    "* Introduction to Jupyter Notebook\n",
    "* Important tools for data science"
   ]
  },
  {
   "cell_type": "markdown",
   "id": "0f5167c3",
   "metadata": {},
   "source": [
    "Some of the popular languages that Data Scientists use are:\n",
    "1. Python\n",
    "2. Java\n",
    "3. R\n",
    "4. Julia"
   ]
  },
  {
   "cell_type": "markdown",
   "id": "e9599984",
   "metadata": {},
   "source": [
    "Some of the commonly used libraries used by Data Scientists include:\n",
    "* Pandas\n",
    "* Numpy\n",
    "* Mathplotlib\n",
    "* Seaborn"
   ]
  },
  {
   "cell_type": "markdown",
   "id": "165ce670",
   "metadata": {},
   "source": [
    "|Data Science Tools|\n",
    "|------------------|\n",
    "|Jupyter Notebook|\n",
    "|VS studio code|\n",
    "|RStudio|"
   ]
  },
  {
   "cell_type": "markdown",
   "id": "b12f2a9e",
   "metadata": {},
   "source": [
    "### Below are a few examples of evaluating arithmetic expressions in Python\n",
    "* Basic Operator\n",
    "* Numpy\n",
    "* Pandas"
   ]
  },
  {
   "cell_type": "code",
   "execution_count": 16,
   "id": "7bfbb01f",
   "metadata": {},
   "outputs": [
    {
     "data": {
      "text/plain": [
       "17"
      ]
     },
     "execution_count": 16,
     "metadata": {},
     "output_type": "execute_result"
    }
   ],
   "source": [
    "# This a simple arithmetic expression to mutiply then add integers\n",
    "(3*4)+5"
   ]
  },
  {
   "cell_type": "code",
   "execution_count": 19,
   "id": "ba5b0e86",
   "metadata": {},
   "outputs": [
    {
     "name": "stdout",
     "output_type": "stream",
     "text": [
      "Final result is 3.3333333333333335 hours\n"
     ]
    }
   ],
   "source": [
    "# This will convert 200 minutes to hours by diving by 60\n",
    "minutes=200\n",
    "hours=minutes/60\n",
    "print(\"Final result is\",hours,\"hours\")"
   ]
  },
  {
   "cell_type": "markdown",
   "id": "e9318bc0",
   "metadata": {},
   "source": [
    "## Author\n",
    "Yunis"
   ]
  }
 ],
 "metadata": {
  "kernelspec": {
   "display_name": "Python 3 (ipykernel)",
   "language": "python",
   "name": "python3"
  },
  "language_info": {
   "codemirror_mode": {
    "name": "ipython",
    "version": 3
   },
   "file_extension": ".py",
   "mimetype": "text/x-python",
   "name": "python",
   "nbconvert_exporter": "python",
   "pygments_lexer": "ipython3",
   "version": "3.11.4"
  }
 },
 "nbformat": 4,
 "nbformat_minor": 5
}
